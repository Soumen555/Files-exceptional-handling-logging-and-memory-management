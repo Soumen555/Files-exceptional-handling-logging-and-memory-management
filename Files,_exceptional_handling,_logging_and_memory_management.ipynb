{
  "nbformat": 4,
  "nbformat_minor": 0,
  "metadata": {
    "colab": {
      "provenance": []
    },
    "kernelspec": {
      "name": "python3",
      "display_name": "Python 3"
    },
    "language_info": {
      "name": "python"
    }
  },
  "cells": [
    {
      "cell_type": "markdown",
      "source": [
        "Q1.What is the difference between interpreted and compiled languages?\n",
        "- Compiled languages translate the entire source code into machine code before execution, so the program runs faster but needs recompilation after changes. Interpreted languages execute line by line through an interpreter, making them slower but easier to test and debug since we don’t need a separate compile step."
      ],
      "metadata": {
        "id": "r1PnTtU0P2Gn"
      }
    },
    {
      "cell_type": "markdown",
      "source": [
        "Q2. What is exception handling in Python?\n",
        "- Exception handling in Python is the mechanism to handle runtime errors using try, except, else, and finally blocks. Instead of crashing the program, it lets us control what should happen when an error occurs, making the code more robust and user-friendly."
      ],
      "metadata": {
        "id": "RT-pFeZyQYeC"
      }
    },
    {
      "cell_type": "markdown",
      "source": [
        "Q3.What is the purpose of the finally block in exception handling?\n",
        "- The finally block runs no matter what happens. It’s mainly used for cleanup tasks like closing files, releasing resources, or ending database connections."
      ],
      "metadata": {
        "id": "uUMV5X4AQs6X"
      }
    },
    {
      "cell_type": "markdown",
      "source": [
        "Q4. What is logging in Python?\n",
        "- Logging in Python is a way to record messages about what the program is doing while it runs. It helps track errors, warnings, or general information instead of just printing to the console."
      ],
      "metadata": {
        "id": "3G0UwMQlRLhf"
      }
    },
    {
      "cell_type": "markdown",
      "source": [
        "Q5. What is the significance of the __del__ method in Python ?\n",
        "- The __del__ method in Python is a destructor. It’s called automatically when an object is about to be destroyed. You can use it to clean up resources like closing files or connections."
      ],
      "metadata": {
        "id": "G_Z0d0WWRdi4"
      }
    },
    {
      "cell_type": "markdown",
      "source": [
        "Q6. What is the difference between import and from ... import in Python?\n",
        "- import brings in the whole module, and you have to use the module name to access its functions or classes. eg: import math\n",
        "- from ... import lets you bring specific parts of a module directly, so you can use them without the module name.eg: from math import sqrt"
      ],
      "metadata": {
        "id": "FAZnXQNKRzJK"
      }
    },
    {
      "cell_type": "markdown",
      "source": [
        "Q7. How can you handle multiple exceptions in Python?\n",
        "- we can handle multiple exceptions by writing multiple except blocks, each for a different error. we can also catch more than one exception in the same block by putting them inside parentheses. like except (ValueError, ZeroDivisionError):"
      ],
      "metadata": {
        "id": "8N_povvHSCRZ"
      }
    },
    {
      "cell_type": "markdown",
      "source": [
        "Q8. What is the purpose of the with statement when handling files in Python ?\n",
        "- The with statement is used to open files safely. It automatically closes the file after the block ends, even if an error occurs, so you don’t have to call close() manually."
      ],
      "metadata": {
        "id": "zSmGNB7ASxXd"
      }
    },
    {
      "cell_type": "markdown",
      "source": [
        "Q9. What is the difference between multithreading and multiprocessing ?\n",
        "- Multithreading: Multiple threads run in the same process, sharing memory. It is good for tasks like I/O, but not great for CPU-heavy work because of Python’s GIL.\n",
        "\n",
        "- Multiprocessing: Multiple processes run independently with separate memory. It is better for CPU-heavy tasks because each process can run on a different core."
      ],
      "metadata": {
        "id": "yK5SRDmcTAij"
      }
    },
    {
      "cell_type": "markdown",
      "source": [
        "Q10. What are the advantages of using logging in a program?\n",
        "- Logging helps you track what is happening in your program, find errors faster, and keep a record of events without stopping the program. Unlike print, it can record different levels (info, warning, error) and can be saved to files for later review."
      ],
      "metadata": {
        "id": "QpG1hn-zTMY4"
      }
    },
    {
      "cell_type": "markdown",
      "source": [
        "Q11. What is memory management in Python ?\n",
        "- Memory management in Python is how Python keeps track of and controls memory usage for objects. It automatically allocates memory when objects are created and frees it when they are no longer needed using garbage collection."
      ],
      "metadata": {
        "id": "Gbs1VMsKTz9s"
      }
    },
    {
      "cell_type": "markdown",
      "source": [
        "Q12. What are the basic steps involved in exception handling in Python ?\n",
        "- The steps are:\n",
        "\n",
        "Try: Write the code that might cause an error.\n",
        "\n",
        "Except: Handle specific errors if they occur.\n",
        "\n",
        "Else (optional): Run code if no error occurs.\n",
        "\n",
        "Finally (optional): Run code that should always execute, like cleanup."
      ],
      "metadata": {
        "id": "VsuENcx7UBZ3"
      }
    },
    {
      "cell_type": "markdown",
      "source": [
        "Q13. Why is memory management important in Python?\n",
        "- Memory management is important to make sure our program uses memory efficiently and doesn’t leak resources. Proper management avoids slowdowns, crashes, or running out of memory."
      ],
      "metadata": {
        "id": "zyMXD-6XUQAO"
      }
    },
    {
      "cell_type": "markdown",
      "source": [
        "Q14. What is the role of try and except in exception handling?\n",
        "- The try block is where we put code that might cause an error. The except block is where we handle the error if it happens, so the program doesn’t crash."
      ],
      "metadata": {
        "id": "NxE2pxD9W0gW"
      }
    },
    {
      "cell_type": "markdown",
      "source": [
        "Q15. How does Python's garbage collection system work ?\n",
        "- Python’s garbage collection automatically frees memory for objects that are no longer used. It mainly uses reference counting to track how many references an object has, and a cycle detector to clean up objects involved in circular references."
      ],
      "metadata": {
        "id": "_V4qSGmwXEK8"
      }
    },
    {
      "cell_type": "markdown",
      "source": [
        "Q16. What is the purpose of the else block in exception handling ?\n",
        "- The else block runs only if no exception occurs in the try block. It is used to put code that should run when everything goes smoothly, keeping it separate from error-handling code."
      ],
      "metadata": {
        "id": "ZPaD_cbnXc3a"
      }
    },
    {
      "cell_type": "markdown",
      "source": [
        "Q17. What are the common logging levels in Python ?\n",
        "- The common logging levels in Python are:\n",
        "\n",
        "DEBUG – detailed information for diagnosing problems\n",
        "\n",
        "INFO – general information about program execution\n",
        "\n",
        "WARNING – something unexpected happened, but the program continues\n",
        "\n",
        "ERROR – a serious problem that stopped part of the program\n",
        "\n",
        "CRITICAL – a very serious error that may stop the program"
      ],
      "metadata": {
        "id": "MW954FObXq1s"
      }
    },
    {
      "cell_type": "markdown",
      "source": [
        "Q18. What is the difference between os.fork() and multiprocessing in Python ?\n",
        "- os.fork() creates a new process by duplicating the current one, but it works only on Unix systems and requires manual management. multiprocessing is a higher-level module that works on all platforms, makes it easier to create and manage multiple processes, and provides tools like Queue and Pool."
      ],
      "metadata": {
        "id": "79J3EWPkX77c"
      }
    },
    {
      "cell_type": "markdown",
      "source": [
        "Q19. What is the importance of closing a file in Python ?\n",
        "- Closing a file frees up the system resources used by it and ensures that all data is properly saved. Leaving files open can cause memory leaks or data loss.And also if we do not close file we can not see the content of the file."
      ],
      "metadata": {
        "id": "uo5L7NAhYTtU"
      }
    },
    {
      "cell_type": "markdown",
      "source": [
        "Q20. What is the difference between file.read() and file.readline() in Python ?\n",
        "- file.read() return the all content of a file.where as file.readline reads the file line by line and return one line at a time."
      ],
      "metadata": {
        "id": "TjKkjxfjY4LK"
      }
    },
    {
      "cell_type": "markdown",
      "source": [
        "Q21.  What is the logging module in Python used for ?\n",
        "- The logging module in Python is used to record messages about a program’s execution, such as errors, warnings, or general information. It’s more flexible and reliable than using print(), and messages can be saved to files for later review."
      ],
      "metadata": {
        "id": "GnGq-v_vZgoP"
      }
    },
    {
      "cell_type": "markdown",
      "source": [
        "Q22. What is the os module in Python used for in file handling ?\n",
        "- The os module provides functions to work with the operating system, like creating, deleting, renaming, or checking files and directories. It helps manage files beyond simple reading and writing."
      ],
      "metadata": {
        "id": "klta5pmRZwSl"
      }
    },
    {
      "cell_type": "markdown",
      "source": [
        "Q23. What are the challenges associated with memory management in Python?\n",
        "- Challenges in Python memory management include handling circular references, avoiding memory leaks, and managing large objects efficiently. Although Python has garbage collection, complex programs can still run into memory issues if objects aren’t released properly."
      ],
      "metadata": {
        "id": "ruKL2y2xZ-Xn"
      }
    },
    {
      "cell_type": "markdown",
      "source": [
        "Q24. How do you raise an exception manually in Python ?\n",
        "- You can raise an exception manually using the raise keyword, followed by an exception type. This is useful to enforce rules or signal errors in your code.\n",
        "\n",
        "\n",
        "\n",
        "x = -1\n",
        "\n",
        "if x < 0:\n",
        "\n",
        "    raise ValueError(\"x cannot be negative\")\n"
      ],
      "metadata": {
        "id": "Rooo-2ItaPGd"
      }
    },
    {
      "cell_type": "markdown",
      "source": [
        "Q25. Why is it important to use multithreading in certain applications ?\n",
        "- Multithreading is important for tasks that wait a lot, like reading/writing files, network requests, or user input. It lets multiple threads run at the same time, improving performance and responsiveness without creating new processes."
      ],
      "metadata": {
        "id": "JyfjuxYOahSh"
      }
    },
    {
      "cell_type": "markdown",
      "source": [
        "**Practical Questions**"
      ],
      "metadata": {
        "id": "-6LIrwgqawDT"
      }
    },
    {
      "cell_type": "code",
      "source": [
        "#Q1. How can you open a file for writing in Python and write a string to it\n",
        "\n",
        "with open (\"my_file.txt\", \"w\") as file:\n",
        "  file.write(\"This is the string which I want to save in the file\")"
      ],
      "metadata": {
        "id": "LwGWf_t7a3nO"
      },
      "execution_count": 1,
      "outputs": []
    },
    {
      "cell_type": "code",
      "source": [
        "#Q2. Write a Python program to read the contents of a file and print each line\n",
        "\n",
        "with open (\"my_file.txt\",\"r\") as file:\n",
        "  print(file.readlines())"
      ],
      "metadata": {
        "colab": {
          "base_uri": "https://localhost:8080/"
        },
        "id": "XHFOS_DFbUX8",
        "outputId": "dc760d60-7f6f-47ac-ae3e-5dc05f41ee78"
      },
      "execution_count": 3,
      "outputs": [
        {
          "output_type": "stream",
          "name": "stdout",
          "text": [
            "['This is the string which I want to save in the file']\n"
          ]
        }
      ]
    },
    {
      "cell_type": "code",
      "source": [
        "#Q3. How would you handle a case where the file doesn't exist while trying to open it for reading\n",
        "\n",
        "try:\n",
        "  with open (\"example.txt\",\"r\") as file:     #there is no example.txt named file\n",
        "    pass\n",
        "except:\n",
        "  print(\"The file does not exists\")"
      ],
      "metadata": {
        "colab": {
          "base_uri": "https://localhost:8080/"
        },
        "id": "95f2apYob0AH",
        "outputId": "8263d04c-ed50-41a6-e414-4a26f3346f96"
      },
      "execution_count": 6,
      "outputs": [
        {
          "output_type": "stream",
          "name": "stdout",
          "text": [
            "The file does not exists\n"
          ]
        }
      ]
    },
    {
      "cell_type": "code",
      "source": [
        "#Q4. Write a Python script that reads from one file and writes its content to another file.\n",
        "\n",
        "import shutil\n",
        "shutil.copy(\"/content/my_file.txt\",\"/content/my_file1.txt\") # reads the content of my_file.txt and writing the content into my_file1.txt"
      ],
      "metadata": {
        "colab": {
          "base_uri": "https://localhost:8080/",
          "height": 35
        },
        "id": "jWdpRs09cgZT",
        "outputId": "6d8274a6-cee8-40de-e839-57bba57ebbbd"
      },
      "execution_count": 8,
      "outputs": [
        {
          "output_type": "execute_result",
          "data": {
            "text/plain": [
              "'/content/my_file1.txt'"
            ],
            "application/vnd.google.colaboratory.intrinsic+json": {
              "type": "string"
            }
          },
          "metadata": {},
          "execution_count": 8
        }
      ]
    },
    {
      "cell_type": "code",
      "source": [
        "#Q5. How would you catch and handle division by zero error in Python ?\n",
        "\n",
        "try:\n",
        "  number=int(input(\"Enter your number:\"))\n",
        "  result=20/number\n",
        "  print(result)\n",
        "except ZeroDivisionError as e:\n",
        "  print(\"Can not devided by zero. Error:\",e)"
      ],
      "metadata": {
        "colab": {
          "base_uri": "https://localhost:8080/"
        },
        "id": "BFZUd3MadMmo",
        "outputId": "b48cda55-3f28-4deb-bf23-f4d1aba19a04"
      },
      "execution_count": 15,
      "outputs": [
        {
          "output_type": "stream",
          "name": "stdout",
          "text": [
            "Enter your number:0\n",
            "Can not devided by zero. Error: division by zero\n"
          ]
        }
      ]
    },
    {
      "cell_type": "code",
      "source": [
        "#Q6. Write a Python program that logs an error message to a log file when a division by zero exception occurs\n",
        "\n",
        "import logging\n",
        "logging.basicConfig(filename=\"program.log\",level='ERROR', format='%(levelname)s %(message)s')\n",
        "try:\n",
        "  number=int(input(\"Enter your number:\"))\n",
        "  result=20/number\n",
        "  print(result)\n",
        "except ZeroDivisionError as e:\n",
        "  logging.error(\"division by zero error\")\n",
        "  print(\"Can not devided by zero. Error:\",e)"
      ],
      "metadata": {
        "colab": {
          "base_uri": "https://localhost:8080/"
        },
        "id": "ksHfdMzZedGU",
        "outputId": "81578fb0-e4b6-449f-ab6e-dcc9f772532c"
      },
      "execution_count": 25,
      "outputs": [
        {
          "name": "stdout",
          "output_type": "stream",
          "text": [
            "Enter your number:0\n"
          ]
        },
        {
          "output_type": "stream",
          "name": "stderr",
          "text": [
            "ERROR:root:division by zero error\n"
          ]
        },
        {
          "output_type": "stream",
          "name": "stdout",
          "text": [
            "Can not devided by zero. Error: division by zero\n"
          ]
        }
      ]
    },
    {
      "cell_type": "code",
      "source": [
        "#Q7. How do you log information at different levels (INFO, ERROR, WARNING) in Python using the logging module\n",
        "\n",
        "import logging\n",
        "\n",
        "logging.basicConfig(filename=\"program1.log\",level=logging.INFO,format=\"%(asctime)s - %(levelname)s - %(message)s\")\n",
        "\n",
        "logging.info(\"This is an info message\")\n",
        "logging.warning(\"This is a warning message\")\n",
        "logging.error(\"This is an error message\")\n"
      ],
      "metadata": {
        "colab": {
          "base_uri": "https://localhost:8080/"
        },
        "id": "cw5FOl2uv_cz",
        "outputId": "ba730cea-2f01-42d1-9017-8b24d51ad85d"
      },
      "execution_count": 27,
      "outputs": [
        {
          "output_type": "stream",
          "name": "stderr",
          "text": [
            "WARNING:root:This is a warning message\n",
            "ERROR:root:This is an error message\n"
          ]
        }
      ]
    },
    {
      "cell_type": "code",
      "source": [
        "#Q8. Write a program to handle a file opening error using exception handling.\n",
        "\n",
        "try:\n",
        "  with open(\"test.txt\",\"r\") as file:\n",
        "    data=file.read()\n",
        "except Exception as e:\n",
        "  print(\"File does not exists\")"
      ],
      "metadata": {
        "colab": {
          "base_uri": "https://localhost:8080/"
        },
        "id": "fmz3-K4BxgDi",
        "outputId": "842453d0-7b61-42eb-9a53-e0968a39114d"
      },
      "execution_count": 28,
      "outputs": [
        {
          "output_type": "stream",
          "name": "stdout",
          "text": [
            "File does not exists\n"
          ]
        }
      ]
    },
    {
      "cell_type": "code",
      "source": [
        "#Q9.How can you read a file line by line and store its content in a list in Python\n",
        "\n",
        "\n",
        "my_list = []\n",
        "with open(\"my_file.txt\", \"r\") as f:\n",
        "    for line in f:\n",
        "        my_list.append(line.strip())\n",
        "\n",
        "print(my_list)\n"
      ],
      "metadata": {
        "colab": {
          "base_uri": "https://localhost:8080/"
        },
        "id": "cEVqnpdFyHoh",
        "outputId": "4d39b54c-d0de-44cc-c1a7-f1b7f0548d67"
      },
      "execution_count": 35,
      "outputs": [
        {
          "output_type": "stream",
          "name": "stdout",
          "text": [
            "['This is the first line of my file', 'This is the second line of my file', 'This is the third line of my file', 'This is the fourth line of my file', 'This is the fifth line of my file']\n"
          ]
        }
      ]
    },
    {
      "cell_type": "code",
      "source": [
        "#Q10. How can you append data to an existing file in Python\n",
        "\n",
        "with open (\"my_file.txt\",\"a\") as file:\n",
        "  file.write(\"\\nThis is the sixth line of my file\")\n",
        "\n",
        "\n",
        "with open (\"my_file.txt\",\"r\") as file:\n",
        "  print(file.read())"
      ],
      "metadata": {
        "colab": {
          "base_uri": "https://localhost:8080/"
        },
        "id": "8--N4L3H3gdu",
        "outputId": "b4402eed-0d41-486a-8493-875f0a2400ba"
      },
      "execution_count": 41,
      "outputs": [
        {
          "output_type": "stream",
          "name": "stdout",
          "text": [
            "This is the first line of my file\n",
            "This is the second line of my file\n",
            "This is the third line of my file\n",
            "This is the fourth line of my file\n",
            "This is the fifth line of my file\n",
            "This is the sixth line of my file\n"
          ]
        }
      ]
    },
    {
      "cell_type": "code",
      "source": [
        "#Q11. Write a Python program that uses a try-except block to handle an error when attempting to access a dictionary key that doesn't exist\n",
        "\n",
        "my_dict={\"name\":\"Soumen\",\n",
        "         \"Company\":\"Google\",\n",
        "         \"salary\":250000}\n",
        "\n",
        "try:\n",
        "  print(my_dict[\"Comany\"])\n",
        "\n",
        "except KeyError as e:\n",
        "  print(\"Key doesn't exists:\",e)"
      ],
      "metadata": {
        "colab": {
          "base_uri": "https://localhost:8080/"
        },
        "id": "QBDS0Aa13_zw",
        "outputId": "08f0059b-dc4b-446a-9071-9ed8b43f7ca9"
      },
      "execution_count": 53,
      "outputs": [
        {
          "output_type": "stream",
          "name": "stdout",
          "text": [
            "Key doesn't exists: 'Comany'\n"
          ]
        }
      ]
    },
    {
      "cell_type": "code",
      "source": [
        "#Q12.Write a program that demonstrates using multiple except blocks to handle different types of exceptions\n",
        "\n",
        "\n",
        "try:\n",
        "  number=int(input(\"Enter your number:\"))\n",
        "  result=100/number\n",
        "  print(result)\n",
        "\n",
        "except ValueError as e:\n",
        "  print(\"Input should be integer, The error is : \",e)\n",
        "except ZeroDivisionError as f:\n",
        "  print(\"Input can not be zero, The error is :\",f)\n",
        "except Exception as g:\n",
        "  print(\"Some unexpected error:\",g)"
      ],
      "metadata": {
        "colab": {
          "base_uri": "https://localhost:8080/"
        },
        "id": "SlSGV-T_436p",
        "outputId": "90d960b5-3469-45ae-8f51-909f1344c562"
      },
      "execution_count": 62,
      "outputs": [
        {
          "output_type": "stream",
          "name": "stdout",
          "text": [
            "Enter your number:asd\n",
            "Input should be integer, The error is :  invalid literal for int() with base 10: 'asd'\n"
          ]
        }
      ]
    },
    {
      "cell_type": "code",
      "source": [
        "#Q13. How would you check if a file exists before attempting to read it in Python ?\n",
        "\n",
        "import os\n",
        "if os.path.exists(\"myfile.txt\"):\n",
        "  print(\"File is already exists\")\n",
        "\n",
        "else:\n",
        "  print(\"File does not exists\")"
      ],
      "metadata": {
        "colab": {
          "base_uri": "https://localhost:8080/"
        },
        "id": "1G0Xbmme64tw",
        "outputId": "c6050cf4-e2ab-4899-c1cd-0ac3b7d1a477"
      },
      "execution_count": 64,
      "outputs": [
        {
          "output_type": "stream",
          "name": "stdout",
          "text": [
            "File does not exists\n"
          ]
        }
      ]
    },
    {
      "cell_type": "code",
      "source": [
        "#Q14. Write a program that uses the logging module to log both informational and error messages\n",
        "\n",
        "import logging\n",
        "logging.basicConfig(filename=\"test.log\",level=logging.ERROR, format='%(levelname)s %(message)s')\n",
        "\n",
        "logging.info(\"program has started\")\n",
        "try:\n",
        "  result = 10 / 0  # This will cause an error\n",
        "except ZeroDivisionError:\n",
        "  logging.error(\"Division by zero occurred\")\n",
        "\n",
        "logging.info(\"program ended\")"
      ],
      "metadata": {
        "colab": {
          "base_uri": "https://localhost:8080/"
        },
        "id": "B6Ic5ejt8pw4",
        "outputId": "cb1c222d-3433-47c8-8ef9-d58be3216333"
      },
      "execution_count": 67,
      "outputs": [
        {
          "output_type": "stream",
          "name": "stderr",
          "text": [
            "ERROR:root:Division by zero occurred\n"
          ]
        }
      ]
    },
    {
      "cell_type": "code",
      "source": [
        "#Q15. Write a Python program that prints the content of a file and handles the case when the file is empty\n",
        "\n",
        "\n",
        "\n",
        "try:\n",
        "    with open(\"example3.txt\", 'r') as file:\n",
        "        content = file.read()\n",
        "        if content:\n",
        "            print(\"File Content:\\n\")\n",
        "            print(content)\n",
        "        else:\n",
        "            print(\"The file is empty.\")\n",
        "except FileNotFoundError:\n",
        "    print(f\"Error: The file does not exist.\")\n",
        "except Exception as e:\n",
        "    print(f\"An unexpected error occurred: {e}\")\n"
      ],
      "metadata": {
        "colab": {
          "base_uri": "https://localhost:8080/"
        },
        "id": "-4w7sDX7-J5_",
        "outputId": "71011a2c-f7bf-47a9-ea52-cde87f884e32"
      },
      "execution_count": 68,
      "outputs": [
        {
          "output_type": "stream",
          "name": "stdout",
          "text": [
            "Error: The file does not exist.\n"
          ]
        }
      ]
    },
    {
      "cell_type": "code",
      "source": [
        "#16. Demonstrate how to use memory profiling to check the memory usage of a small program\n",
        "\n",
        "from memory_profiler import profile\n",
        "\n",
        "@profile\n",
        "def create_large_list():\n",
        "    print(\"Creating a list of 1 million numbers...\")\n",
        "    large_list = [i for i in range(10**6)]\n",
        "    print(\"List created!\")\n",
        "    return large_list\n",
        "\n",
        "if __name__ == \"__main__\":\n",
        "    create_large_list()\n"
      ],
      "metadata": {
        "id": "nnIIsdod_nBd"
      },
      "execution_count": null,
      "outputs": []
    },
    {
      "cell_type": "code",
      "source": [
        "#Q17. Write a Python program to create and write a list of numbers to a file, one number per line\n",
        "\n",
        "numbers=[10,20,30,40,50]\n",
        "\n",
        "try:\n",
        "  with open (\"numbers.txt\",\"w\") as file:\n",
        "    for i in numbers:\n",
        "      file.write(f\"{i}\\n\")\n",
        "except Exception as e:\n",
        "  Print(\"Error:\",e)\n",
        "else:\n",
        "  with open(\"numbers.txt\",\"r\") as file:\n",
        "    data=file.read()\n",
        "    print(data)"
      ],
      "metadata": {
        "colab": {
          "base_uri": "https://localhost:8080/"
        },
        "id": "vHLYREjbBMM_",
        "outputId": "73593ec4-c786-4959-f9ed-62c5fb60e5f7"
      },
      "execution_count": 69,
      "outputs": [
        {
          "output_type": "stream",
          "name": "stdout",
          "text": [
            "10\n",
            "20\n",
            "30\n",
            "40\n",
            "50\n",
            "\n"
          ]
        }
      ]
    },
    {
      "cell_type": "code",
      "source": [
        "#Q18.  How would you implement a basic logging setup that logs to a file with rotation after 1MB (Not covered in class)\n",
        "\n",
        "\n",
        "import logging\n",
        "from logging.handlers import RotatingFileHandler\n",
        "\n",
        "\n",
        "handler = RotatingFileHandler(\"mylog.log\", maxBytes=1*1024*1024, backupCount=2)\n",
        "\n",
        "\n",
        "logging.basicConfig(handlers=[handler],level=logging.INFO,format='%(asctime)s - %(levelname)s - %(message)s')\n",
        "\n",
        "\n",
        "logging.info(\"This is an info message.\")\n",
        "logging.warning(\"This is a warning message.\")\n",
        "logging.error(\"This is an error message.\")\n",
        "\n"
      ],
      "metadata": {
        "id": "o68hMteTCTTP"
      },
      "execution_count": null,
      "outputs": []
    },
    {
      "cell_type": "code",
      "source": [
        "#Q19. Write a program that handles both IndexError and KeyError using a try-except block\n",
        "\n",
        "\n",
        "my_list = [10, 20, 30]\n",
        "my_dict = {'a': 1, 'b': 2}\n",
        "\n",
        "try:\n",
        "    print(my_list[5])\n",
        "    print(my_dict['c'])\n",
        "\n",
        "except IndexError as ie:\n",
        "    print(f\"Index Error caught: {ie}\")\n",
        "\n",
        "except KeyError as ke:\n",
        "    print(f\"Key Error caught: {ke}\")\n",
        "\n",
        "except Exception as e:\n",
        "    print(f\"An unexpected error occurred: {e}\")\n"
      ],
      "metadata": {
        "colab": {
          "base_uri": "https://localhost:8080/"
        },
        "id": "gu5cSlvYC9OB",
        "outputId": "a24dd49a-4ad7-42bd-d117-9f049b176849"
      },
      "execution_count": 71,
      "outputs": [
        {
          "output_type": "stream",
          "name": "stdout",
          "text": [
            "Index Error caught: list index out of range\n"
          ]
        }
      ]
    },
    {
      "cell_type": "code",
      "source": [
        "#Q20. How would you open a file and read its contents using a context manager in Python\n",
        "\n",
        "\n",
        "try:\n",
        "    with open(\"example.txt\", \"r\") as file:\n",
        "        content = file.read()\n",
        "        print(\"File Content:\\n\")\n",
        "        print(content)\n",
        "except FileNotFoundError:\n",
        "    print(f\"Error: The file '{filename}' does not exist.\")\n",
        "except Exception as e:\n",
        "    print(f\"An unexpected error occurred: {e}\")\n",
        "\n",
        "\n"
      ],
      "metadata": {
        "id": "cuZLcKK8DYwF"
      },
      "execution_count": null,
      "outputs": []
    },
    {
      "cell_type": "code",
      "source": [
        "#Q21. Write a Python program that reads a file and prints the number of occurrences of a specific word\n",
        "\n",
        "\n",
        "filename = \"example.txt\"\n",
        "search_word = \"Python\"\n",
        "\n",
        "try:\n",
        "    with open(filename, 'r') as file:\n",
        "        content = file.read()\n",
        "\n",
        "\n",
        "    count = content.count(search_word)\n",
        "    print(f\"The word '{search_word}' occurs {count} times in the file.\")\n",
        "\n",
        "except FileNotFoundError:\n",
        "    print(f\"Error: The file '{filename}' does not exist.\")\n",
        "except Exception as e:\n",
        "    print(f\"An unexpected error occurred: {e}\")\n",
        "\n",
        "\n"
      ],
      "metadata": {
        "colab": {
          "base_uri": "https://localhost:8080/"
        },
        "id": "nxozW0aUEnY7",
        "outputId": "43453dce-5aaf-4075-f126-2dc01775abee"
      },
      "execution_count": 73,
      "outputs": [
        {
          "output_type": "stream",
          "name": "stdout",
          "text": [
            "Error: The file 'example.txt' does not exist.\n"
          ]
        }
      ]
    },
    {
      "cell_type": "code",
      "source": [
        "#Q22. How can you check if a file is empty before attempting to read its contents\n",
        "\n",
        "import os\n",
        "\n",
        "if os.path.exists(\"example.txt\"):\n",
        "    with open(\"example.txt\", 'r') as file:\n",
        "        content = file.read()\n",
        "        print(\"File Content:\\n\", content)\n",
        "else:\n",
        "    print(\"The file is empty or does not exist.\")\n"
      ],
      "metadata": {
        "colab": {
          "base_uri": "https://localhost:8080/"
        },
        "id": "Py4Y06QZFae6",
        "outputId": "e27ac776-72b3-42bb-c86a-0058b83aab6c"
      },
      "execution_count": 75,
      "outputs": [
        {
          "output_type": "stream",
          "name": "stdout",
          "text": [
            "The file is empty or does not exist.\n"
          ]
        }
      ]
    },
    {
      "cell_type": "code",
      "source": [
        "#Q23. Write a Python program that writes to a log file when an error occurs during file handling\n",
        "\n",
        "import logging\n",
        "\n",
        "logging.basicConfig(filename='error.log',level=logging.ERROR,format='%(asctime)s - %(levelname)s - %(message)s')\n",
        "\n",
        "filename = \"example.txt\"\n",
        "\n",
        "try:\n",
        "    with open(filename, 'r') as file:\n",
        "        content = file.read()\n",
        "        print(\"File content:\\n\", content)\n",
        "\n",
        "except FileNotFoundError as fnf_error:\n",
        "    print(f\"Error: The file '{filename}' does not exist.\")\n",
        "    logging.error(f\"FileNotFoundError: {fnf_error}\")\n",
        "\n",
        "except Exception as e:\n",
        "    print(\"An unexpected error occurred.\")\n",
        "    logging.error(f\"Exception: {e}\")\n"
      ],
      "metadata": {
        "id": "XquB7j_DG26C"
      },
      "execution_count": null,
      "outputs": []
    }
  ]
}